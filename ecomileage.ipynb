{
  "nbformat": 4,
  "nbformat_minor": 0,
  "metadata": {
    "colab": {
      "provenance": [],
      "authorship_tag": "ABX9TyMCxl2JVkPg11dyB3mL7BW7",
      "include_colab_link": true
    },
    "kernelspec": {
      "name": "python3",
      "display_name": "Python 3"
    },
    "language_info": {
      "name": "python"
    }
  },
  "cells": [
    {
      "cell_type": "markdown",
      "metadata": {
        "id": "view-in-github",
        "colab_type": "text"
      },
      "source": [
        "<a href=\"https://colab.research.google.com/github/hillwalking/2025-2-Data-Analysis/blob/main/ecomileage.ipynb\" target=\"_parent\"><img src=\"https://colab.research.google.com/assets/colab-badge.svg\" alt=\"Open In Colab\"/></a>"
      ]
    },
    {
      "cell_type": "code",
      "execution_count": 4,
      "metadata": {
        "id": "na_7-guKykDN",
        "colab": {
          "base_uri": "https://localhost:8080/"
        },
        "outputId": "c6e3be49-4cc8-43a0-e234-88e833d4f79d"
      },
      "outputs": [
        {
          "output_type": "stream",
          "name": "stdout",
          "text": [
            "API 호출 성공\n",
            "{'RESULT': {'CODE': 'INFO-200', 'MESSAGE': '해당하는 데이터가 없습니다.'}}\n"
          ]
        }
      ],
      "source": [
        "import requests\n",
        "url = 'http://openapi.seoul.go.kr:8088/6f546371447a6e6f3531544a726b62/json/energyUseDataSummaryInfo/1/6/'\n",
        "#서울시 에코마일리지 에너지 사용량 회원유형 7개 : 개인, 공공기관, 공동주택 관리소, 기업, 소상공인, 종교단체, 학교\n",
        "api_key = '6f546371447a6e6f3531544a726b62'\n",
        "\n",
        "response = requests.get(url)\n",
        "\n",
        "if response.status_code == 200:\n",
        "    print('API 호출 성공')\n",
        "    data = response.json()\n",
        "    with open('', 'r', encoding='utf-8') as f:\n",
        "    content = f.read()\n",
        "else:\n",
        "    print(f'API 호출 실패 : {response.status_code}')\n",
        "\n",
        "\n",
        "\n"
      ]
    },
    {
      "cell_type": "markdown",
      "source": [
        "# 새 섹션"
      ],
      "metadata": {
        "id": "es261PxjmFZl"
      }
    },
    {
      "cell_type": "code",
      "source": [
        "import requests\n",
        "import json\n",
        "import pandas as pd\n",
        "\n",
        "url = 'http://openapi.seoul.go.kr:8088/6f546371447a6e6f3531544a726b62/json/energyUseDataSummaryInfo/1/100'\n",
        "#서울시 에코마일리지 에너지 사용량 회원유형 7개 : 개인, 공공기관, 공동주택 관리소, 기업, 소상공인, 종교단체, 학교\n",
        "\n",
        "\n",
        "response = requests.get(url)\n",
        "if response.status_code == 200:\n",
        "    print('API 호출 성공')\n",
        "    data = response.json()\n",
        "    with open('data.json', mode = 'w', encoding='utf-8') as f:\n",
        "        json.dump(data,f, indent = 4, ensure_ascii = False)\n",
        "\n",
        "else:\n",
        "    print(f'API 호출 실패 : {response.status_code}')\n",
        "\n",
        "df = pd.DataFrame(data)\n",
        "print(df.shape)"
      ],
      "metadata": {
        "colab": {
          "base_uri": "https://localhost:8080/"
        },
        "id": "mbOKNW78WoCu",
        "outputId": "5db3f19c-4434-4241-ee73-414052b3bb51"
      },
      "execution_count": 18,
      "outputs": [
        {
          "output_type": "stream",
          "name": "stdout",
          "text": [
            "API 호출 성공\n",
            "(3, 1)\n"
          ]
        }
      ]
    }
  ]
}