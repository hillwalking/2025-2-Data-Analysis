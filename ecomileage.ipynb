{
  "nbformat": 4,
  "nbformat_minor": 0,
  "metadata": {
    "colab": {
      "provenance": [],
      "authorship_tag": "ABX9TyMR05CnAwOv6BwpfxwHhBDS",
      "include_colab_link": true
    },
    "kernelspec": {
      "name": "python3",
      "display_name": "Python 3"
    },
    "language_info": {
      "name": "python"
    }
  },
  "cells": [
    {
      "cell_type": "markdown",
      "metadata": {
        "id": "view-in-github",
        "colab_type": "text"
      },
      "source": [
        "<a href=\"https://colab.research.google.com/github/hillwalking/2025-2-Data-Analysis/blob/main/ecomileage.ipynb\" target=\"_parent\"><img src=\"https://colab.research.google.com/assets/colab-badge.svg\" alt=\"Open In Colab\"/></a>"
      ]
    },
    {
      "cell_type": "code",
      "execution_count": null,
      "metadata": {
        "id": "na_7-guKykDN"
      },
      "outputs": [],
      "source": [
        "import requests\n",
        "url = 'http://openapi.seoul.go.kr:8088/6f546371447a6e6f3531544a726b62/json/energyUseDataSummaryInfo/1/7/2024/12'\n",
        "#서울시 에코마일리지 에너지 사용량 회원유형별 데이터 인증키\n",
        "api_key = '6f546371447a6e6f3531544a726b62'"
      ]
    }
  ]
}